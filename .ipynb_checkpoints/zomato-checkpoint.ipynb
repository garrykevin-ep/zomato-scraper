{
 "cells": [
  {
   "cell_type": "code",
   "execution_count": 186,
   "metadata": {},
   "outputs": [],
   "source": [
    "url = 'https://www.zomato.com/chennai/the-miner-diner-nungambakkam/photos'\n",
    "limit = 100\n",
    "post_url = 'https://www.zomato.com/php/load_more_res_pics.php'"
   ]
  },
  {
   "cell_type": "code",
   "execution_count": 1,
   "metadata": {},
   "outputs": [],
   "source": [
    "import requests"
   ]
  },
  {
   "cell_type": "code",
   "execution_count": 2,
   "metadata": {},
   "outputs": [],
   "source": [
    "from bs4 import BeautifulSoup\n",
    "import lxml"
   ]
  },
  {
   "cell_type": "code",
   "execution_count": 180,
   "metadata": {},
   "outputs": [],
   "source": [
    "headers = {'User-Agent': 'Mozilla/5.0 (Macintosh; Intel Mac OS X 10.13; rv:62.0) Gecko/20100101 Firefox/62.0'}"
   ]
  },
  {
   "cell_type": "code",
   "execution_count": 5,
   "metadata": {},
   "outputs": [],
   "source": [
    "photo_page = requests.get(url,headers=headers,timeout=10)"
   ]
  },
  {
   "cell_type": "code",
   "execution_count": 8,
   "metadata": {},
   "outputs": [],
   "source": [
    "soup = BeautifulSoup(photo_page.content,'lxml')"
   ]
  },
  {
   "cell_type": "code",
   "execution_count": 34,
   "metadata": {},
   "outputs": [
    {
     "name": "stdout",
     "output_type": "stream",
     "text": [
      "18423052\n"
     ]
    }
   ],
   "source": [
    "thumbs_container = soup.find('div',{'id': 'thumbsContainer'})\n",
    "data_id =  thumbs_container.attrs['data-res_id']\n",
    "print(data_id)"
   ]
  },
  {
   "cell_type": "code",
   "execution_count": 32,
   "metadata": {},
   "outputs": [],
   "source": [
    "# photos = soup.findAll('div',attrs = {'class' : 'photobox'})"
   ]
  },
  {
   "cell_type": "code",
   "execution_count": 181,
   "metadata": {},
   "outputs": [],
   "source": [
    "# for photo in photos:\n",
    "#     print(photo.attrs['data-photo_id'])"
   ]
  },
  {
   "cell_type": "code",
   "execution_count": 188,
   "metadata": {},
   "outputs": [],
   "source": [
    "data = {\n",
    "    'action' : 'fetch_photos',\n",
    "    'category' : 'all',\n",
    "    'index'  : 0,\n",
    "     'limit'  : limit,\n",
    "     'offset' : 0,\n",
    "     'res_id' : data_id\n",
    "    \n",
    "}\n",
    "post_headers = {\n",
    "'Host': 'www.zomato.com',\n",
    "'User-Agent': 'Mozilla/5.0 (Macintosh; Intel Mac OS X 10.13; rv:62.0) Gecko/20100101 Firefox/62.0',\n",
    "'Accept': 'application/json, text/javascript, */*; q=0.01',\n",
    "'Accept-Language': 'en-US,en;q=0.5',\n",
    "'Accept-Encoding': 'gzip, deflate, br',\n",
    "#'Referer' : 'https//www.zomato.com/',\n",
    "'Content-Type': 'application/x-www-form-urlencoded; charset=UTF-8',\n",
    "'X-Requested-With': 'XMLHttpRequest',\n",
    "}\n",
    "more_api = requests.post(post_url,data=data,headers=post_headers,timeout = 5)\n",
    "# print (more_api.content[0:10])"
   ]
  },
  {
   "cell_type": "code",
   "execution_count": 189,
   "metadata": {},
   "outputs": [],
   "source": [
    "import json\n",
    "api_data = more_api.json()['html']\n",
    "soup_api = BeautifulSoup(api_data,'lxml')\n",
    "api_photos = soup_api.findAll('img')"
   ]
  },
  {
   "cell_type": "code",
   "execution_count": 190,
   "metadata": {},
   "outputs": [],
   "source": [
    "urls = []\n",
    "for api_photo in api_photos:\n",
    "    full_url = api_photo.attrs['data-original']\n",
    "    url,query=full_url.split('?')\n",
    "    urls.append(url+'?'+query.replace('200','800'))"
   ]
  },
  {
   "cell_type": "code",
   "execution_count": 185,
   "metadata": {},
   "outputs": [],
   "source": [
    "# for url in urls[:2]:\n",
    "#     print(url)"
   ]
  },
  {
   "cell_type": "code",
   "execution_count": 191,
   "metadata": {},
   "outputs": [],
   "source": [
    "import os\n",
    "path = os.path.dirname (os.path.realpath('__file__') )\n",
    "path += '/images/' + '/'"
   ]
  },
  {
   "cell_type": "code",
   "execution_count": null,
   "metadata": {},
   "outputs": [
    {
     "name": "stdout",
     "output_type": "stream",
     "text": [
      "Downloading -- 1\n",
      "Downloading -- 2\n",
      "Downloading -- 3\n",
      "Downloading -- 4\n",
      "Downloading -- 5\n",
      "Downloading -- 6\n",
      "Downloading -- 7\n",
      "Downloading -- 8\n",
      "Downloading -- 9\n",
      "Downloading -- 10\n",
      "Downloading -- 11\n",
      "Downloading -- 12\n",
      "Downloading -- 13\n",
      "Downloading -- 14\n",
      "Downloading -- 15\n",
      "Downloading -- 16\n",
      "Downloading -- 17\n",
      "Downloading -- 18\n",
      "Downloading -- 19\n",
      "Downloading -- 20\n",
      "Downloading -- 21\n",
      "Downloading -- 22\n",
      "Downloading -- 23\n",
      "Downloading -- 24\n",
      "Downloading -- 25\n",
      "Downloading -- 26\n",
      "Downloading -- 27\n",
      "Downloading -- 28\n",
      "Downloading -- 29\n",
      "Downloading -- 30\n",
      "Downloading -- 31\n"
     ]
    }
   ],
   "source": [
    "counter = 1\n",
    "for url in urls:\n",
    "    response = requests.get(url)\n",
    "    with open(path + str(counter) + '.jpg', 'wb') as f:\n",
    "        print('Downloading -- ' + str(counter) )\n",
    "        f.write(response.content)\n",
    "        counter+=1"
   ]
  }
 ],
 "metadata": {
  "kernelspec": {
   "display_name": "Python 3",
   "language": "python",
   "name": "python3"
  },
  "language_info": {
   "codemirror_mode": {
    "name": "ipython",
    "version": 3
   },
   "file_extension": ".py",
   "mimetype": "text/x-python",
   "name": "python",
   "nbconvert_exporter": "python",
   "pygments_lexer": "ipython3",
   "version": "3.6.3"
  }
 },
 "nbformat": 4,
 "nbformat_minor": 2
}
